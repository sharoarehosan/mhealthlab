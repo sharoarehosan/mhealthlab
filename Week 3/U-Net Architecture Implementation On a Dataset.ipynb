{
 "cells": [
  {
   "cell_type": "code",
   "execution_count": 1,
   "id": "144ef9b3",
   "metadata": {
    "execution": {
     "iopub.execute_input": "2025-06-15T09:52:40.644774Z",
     "iopub.status.busy": "2025-06-15T09:52:40.644455Z",
     "iopub.status.idle": "2025-06-15T09:52:41.716025Z",
     "shell.execute_reply": "2025-06-15T09:52:41.714831Z"
    },
    "papermill": {
     "duration": 1.078205,
     "end_time": "2025-06-15T09:52:41.717466",
     "exception": true,
     "start_time": "2025-06-15T09:52:40.639261",
     "status": "failed"
    },
    "tags": []
   },
   "outputs": [
    {
     "ename": "ValueError",
     "evalue": "need at least one array to stack",
     "output_type": "error",
     "traceback": [
      "\u001b[0;31m---------------------------------------------------------------------------\u001b[0m",
      "\u001b[0;31mValueError\u001b[0m                                Traceback (most recent call last)",
      "\u001b[0;32m/tmp/ipykernel_13/1912087296.py\u001b[0m in \u001b[0;36m<cell line: 0>\u001b[0;34m()\u001b[0m\n\u001b[1;32m     28\u001b[0m \u001b[0;34m\u001b[0m\u001b[0m\n\u001b[1;32m     29\u001b[0m \u001b[0;31m# Load up to 1000 slices\u001b[0m\u001b[0;34m\u001b[0m\u001b[0;34m\u001b[0m\u001b[0m\n\u001b[0;32m---> 30\u001b[0;31m \u001b[0mx\u001b[0m \u001b[0;34m=\u001b[0m \u001b[0mload_nii_slices\u001b[0m\u001b[0;34m(\u001b[0m\u001b[0mct_path\u001b[0m\u001b[0;34m,\u001b[0m \u001b[0mmax_slices\u001b[0m\u001b[0;34m=\u001b[0m\u001b[0;36m1000\u001b[0m\u001b[0;34m)\u001b[0m\u001b[0;34m\u001b[0m\u001b[0;34m\u001b[0m\u001b[0m\n\u001b[0m\u001b[1;32m     31\u001b[0m \u001b[0my\u001b[0m \u001b[0;34m=\u001b[0m \u001b[0mload_nii_slices\u001b[0m\u001b[0;34m(\u001b[0m\u001b[0mstaple_path\u001b[0m\u001b[0;34m,\u001b[0m \u001b[0mmax_slices\u001b[0m\u001b[0;34m=\u001b[0m\u001b[0;36m1000\u001b[0m\u001b[0;34m)\u001b[0m\u001b[0;34m\u001b[0m\u001b[0;34m\u001b[0m\u001b[0m\n",
      "\u001b[0;32m/tmp/ipykernel_13/1912087296.py\u001b[0m in \u001b[0;36mload_nii_slices\u001b[0;34m(folder_path, max_slices)\u001b[0m\n\u001b[1;32m     21\u001b[0m                 \u001b[0;32mreturn\u001b[0m \u001b[0mnp\u001b[0m\u001b[0;34m.\u001b[0m\u001b[0mstack\u001b[0m\u001b[0;34m(\u001b[0m\u001b[0mall_slices\u001b[0m\u001b[0;34m,\u001b[0m \u001b[0maxis\u001b[0m\u001b[0;34m=\u001b[0m\u001b[0;36m0\u001b[0m\u001b[0;34m)\u001b[0m\u001b[0;34m\u001b[0m\u001b[0;34m\u001b[0m\u001b[0m\n\u001b[1;32m     22\u001b[0m \u001b[0;34m\u001b[0m\u001b[0m\n\u001b[0;32m---> 23\u001b[0;31m     \u001b[0;32mreturn\u001b[0m \u001b[0mnp\u001b[0m\u001b[0;34m.\u001b[0m\u001b[0mstack\u001b[0m\u001b[0;34m(\u001b[0m\u001b[0mall_slices\u001b[0m\u001b[0;34m,\u001b[0m \u001b[0maxis\u001b[0m\u001b[0;34m=\u001b[0m\u001b[0;36m0\u001b[0m\u001b[0;34m)\u001b[0m\u001b[0;34m\u001b[0m\u001b[0;34m\u001b[0m\u001b[0m\n\u001b[0m\u001b[1;32m     24\u001b[0m \u001b[0;34m\u001b[0m\u001b[0m\n\u001b[1;32m     25\u001b[0m \u001b[0;31m# Define paths\u001b[0m\u001b[0;34m\u001b[0m\u001b[0;34m\u001b[0m\u001b[0m\n",
      "\u001b[0;32m/usr/local/lib/python3.11/dist-packages/numpy/core/shape_base.py\u001b[0m in \u001b[0;36mstack\u001b[0;34m(arrays, axis, out, dtype, casting)\u001b[0m\n\u001b[1;32m    443\u001b[0m     \u001b[0marrays\u001b[0m \u001b[0;34m=\u001b[0m \u001b[0;34m[\u001b[0m\u001b[0masanyarray\u001b[0m\u001b[0;34m(\u001b[0m\u001b[0marr\u001b[0m\u001b[0;34m)\u001b[0m \u001b[0;32mfor\u001b[0m \u001b[0marr\u001b[0m \u001b[0;32min\u001b[0m \u001b[0marrays\u001b[0m\u001b[0;34m]\u001b[0m\u001b[0;34m\u001b[0m\u001b[0;34m\u001b[0m\u001b[0m\n\u001b[1;32m    444\u001b[0m     \u001b[0;32mif\u001b[0m \u001b[0;32mnot\u001b[0m \u001b[0marrays\u001b[0m\u001b[0;34m:\u001b[0m\u001b[0;34m\u001b[0m\u001b[0;34m\u001b[0m\u001b[0m\n\u001b[0;32m--> 445\u001b[0;31m         \u001b[0;32mraise\u001b[0m \u001b[0mValueError\u001b[0m\u001b[0;34m(\u001b[0m\u001b[0;34m'need at least one array to stack'\u001b[0m\u001b[0;34m)\u001b[0m\u001b[0;34m\u001b[0m\u001b[0;34m\u001b[0m\u001b[0m\n\u001b[0m\u001b[1;32m    446\u001b[0m \u001b[0;34m\u001b[0m\u001b[0m\n\u001b[1;32m    447\u001b[0m     \u001b[0mshapes\u001b[0m \u001b[0;34m=\u001b[0m \u001b[0;34m{\u001b[0m\u001b[0marr\u001b[0m\u001b[0;34m.\u001b[0m\u001b[0mshape\u001b[0m \u001b[0;32mfor\u001b[0m \u001b[0marr\u001b[0m \u001b[0;32min\u001b[0m \u001b[0marrays\u001b[0m\u001b[0;34m}\u001b[0m\u001b[0;34m\u001b[0m\u001b[0;34m\u001b[0m\u001b[0m\n",
      "\u001b[0;31mValueError\u001b[0m: need at least one array to stack"
     ]
    }
   ],
   "source": [
    "import nibabel as nib\n",
    "import numpy as np\n",
    "from pathlib import Path\n",
    "\n",
    "def load_nii_slices(folder_path, max_slices):\n",
    "    all_slices = []\n",
    "    for nii_path in sorted(folder_path.glob(\"*.nii\")):\n",
    "        print(f\"Loading {nii_path.name}\")\n",
    "        img = nib.load(nii_path)\n",
    "        data = img.get_fdata()  # shape: (192, 192, N)\n",
    "\n",
    "        assert data.shape[0:2] == (192, 192), f\"Unexpected shape: {data.shape}\"\n",
    "\n",
    "        for i in range(data.shape[2]):\n",
    "            slice_2d = data[:, :, i]\n",
    "            slice_2d = np.expand_dims(slice_2d, axis=-1)\n",
    "            all_slices.append(slice_2d)\n",
    "\n",
    "            if len(all_slices) >= max_slices:\n",
    "                print(f\"Reached max slice limit: {max_slices}\")\n",
    "                return np.stack(all_slices, axis=0)\n",
    "\n",
    "    return np.stack(all_slices, axis=0)\n",
    "\n",
    "# Define paths\n",
    "ct_path = Path(\"TumSeg_separate/CT\")\n",
    "staple_path = Path(\"TumSeg_separate/STAPLE\")\n",
    "\n",
    "# Load up to 1000 slices\n",
    "x = load_nii_slices(ct_path, max_slices=1000)\n",
    "y = load_nii_slices(staple_path, max_slices=1000)"
   ]
  },
  {
   "cell_type": "code",
   "execution_count": null,
   "id": "9003dc8a",
   "metadata": {
    "papermill": {
     "duration": null,
     "end_time": null,
     "exception": null,
     "start_time": null,
     "status": "pending"
    },
    "tags": []
   },
   "outputs": [],
   "source": [
    "print(\"X shape:\", x.shape)\n",
    "print(\"Y shape:\", y.shape)"
   ]
  },
  {
   "cell_type": "code",
   "execution_count": null,
   "id": "92e33e3d",
   "metadata": {
    "papermill": {
     "duration": null,
     "end_time": null,
     "exception": null,
     "start_time": null,
     "status": "pending"
    },
    "tags": []
   },
   "outputs": [],
   "source": [
    "import numpy as np\n",
    "\n",
    "# Calculate the mean of each 192x192 image (ignoring the last channel dimension)\n",
    "avg_values = np.mean(y, axis=(1, 2))  # shape: (1000,)\n",
    "\n",
    "print(\"Average intensity values for all 1000 images:\")\n",
    "print(avg_values)\n",
    "print(\"Shape of avg_values:\", avg_values.shape)\n"
   ]
  },
  {
   "cell_type": "code",
   "execution_count": null,
   "id": "ddf4c1f8",
   "metadata": {
    "papermill": {
     "duration": null,
     "end_time": null,
     "exception": null,
     "start_time": null,
     "status": "pending"
    },
    "tags": []
   },
   "outputs": [],
   "source": [
    "# Find indices where average intensity is NOT zero\n",
    "non_zero_indices = np.where(avg_values != 0)[0]\n",
    "zero_indices = np.where(avg_values == 0)[0]\n",
    "\n",
    "print(\"Indices with non-zero average intensity:\")\n",
    "print(non_zero_indices)\n",
    "print(\"Total non-zero images:\", len(non_zero_indices))\n",
    "\n",
    "print(\"Indices with zero average intensity:\")\n",
    "print(zero_indices)\n",
    "print(\"Total non-zero images:\", len(zero_indices))\n"
   ]
  },
  {
   "cell_type": "code",
   "execution_count": null,
   "id": "d5d315c8",
   "metadata": {
    "papermill": {
     "duration": null,
     "end_time": null,
     "exception": null,
     "start_time": null,
     "status": "pending"
    },
    "tags": []
   },
   "outputs": [],
   "source": [
    "temp=len(non_zero_indices)\n",
    "zero_indices = zero_indices[:temp]\n",
    "print(zero_indices.shape)\n",
    "print(non_zero_indices.shape)\n",
    "print(zero_indices)\n",
    "print(non_zero_indices)"
   ]
  },
  {
   "cell_type": "code",
   "execution_count": null,
   "id": "cc4f2841",
   "metadata": {
    "papermill": {
     "duration": null,
     "end_time": null,
     "exception": null,
     "start_time": null,
     "status": "pending"
    },
    "tags": []
   },
   "outputs": [],
   "source": [
    "indices = np.concatenate([zero_indices, non_zero_indices])\n",
    "indices = np.sort(indices)\n",
    "print(indices)\n",
    "print(indices.shape)"
   ]
  },
  {
   "cell_type": "code",
   "execution_count": null,
   "id": "7c71ea9d",
   "metadata": {
    "papermill": {
     "duration": null,
     "end_time": null,
     "exception": null,
     "start_time": null,
     "status": "pending"
    },
    "tags": []
   },
   "outputs": [],
   "source": [
    "X_fresh = x[indices]\n",
    "Y_fresh = y[indices]\n",
    "\n",
    "print(X_fresh.shape)\n",
    "print(Y_fresh.shape)"
   ]
  },
  {
   "cell_type": "markdown",
   "id": "46d07434",
   "metadata": {
    "papermill": {
     "duration": null,
     "end_time": null,
     "exception": null,
     "start_time": null,
     "status": "pending"
    },
    "tags": []
   },
   "source": [
    "# Model Training"
   ]
  },
  {
   "cell_type": "code",
   "execution_count": null,
   "id": "bc6e96bf",
   "metadata": {
    "papermill": {
     "duration": null,
     "end_time": null,
     "exception": null,
     "start_time": null,
     "status": "pending"
    },
    "tags": []
   },
   "outputs": [],
   "source": [
    "import matplotlib.pyplot as plt\n",
    "\n",
    "# Choose the index you want to visualize\n",
    "i = 152  # or any number < 1000\n",
    "\n",
    "# Remove channel dimension for display\n",
    "image = X_fresh[i, :, :, 0]\n",
    "label = Y_fresh[i, :, :, 0]\n",
    "\n",
    "# Plot side-by-side\n",
    "plt.figure(figsize=(10, 5))\n",
    "\n",
    "plt.subplot(1, 2, 1)\n",
    "plt.imshow(image, cmap='gray')\n",
    "plt.title(f\"CT Slice - X[{i}]\")\n",
    "plt.axis('off')\n",
    "\n",
    "plt.subplot(1, 2, 2)\n",
    "plt.imshow(label, cmap='gray')\n",
    "plt.title(f\"STAPLE Mask - Y[{i}]\")\n",
    "plt.axis('off')\n",
    "\n",
    "plt.tight_layout()\n",
    "plt.show()\n"
   ]
  },
  {
   "cell_type": "code",
   "execution_count": null,
   "id": "f3a2253b",
   "metadata": {
    "papermill": {
     "duration": null,
     "end_time": null,
     "exception": null,
     "start_time": null,
     "status": "pending"
    },
    "tags": []
   },
   "outputs": [],
   "source": [
    "X = np.expand_dims(X_fresh, -1)\n",
    "Y = np.expand_dims(Y_fresh, -1)\n",
    "print(\"X shape:\", X.shape)\n",
    "print(\"Y shape:\", Y.shape)"
   ]
  },
  {
   "cell_type": "code",
   "execution_count": null,
   "id": "239fde50",
   "metadata": {
    "papermill": {
     "duration": null,
     "end_time": null,
     "exception": null,
     "start_time": null,
     "status": "pending"
    },
    "tags": []
   },
   "outputs": [],
   "source": [
    "from sklearn.model_selection import train_test_split\n",
    "\n",
    "# Perform train-test split\n",
    "X_train, X_test, y_train, Y_test = train_test_split(X, Y, test_size=0.15, random_state=32)\n",
    "\n",
    "# Perform train-validation split\n",
    "X_train, X_val, Y_train, Y_val = train_test_split(X_train, y_train, test_size=0.15, random_state=32)\n",
    "\n",
    "# Print shapes to verify the split\n",
    "print('X_train shape:', X_train.shape)\n",
    "print('y_train shape:', y_train.shape)\n",
    "print('X_test shape:', X_test.shape)\n",
    "print('y_test shape:', Y_test.shape)\n",
    "print('X_test shape:', X_val.shape)\n",
    "print('y_test shape:', Y_val.shape)"
   ]
  },
  {
   "cell_type": "markdown",
   "id": "6f864164",
   "metadata": {
    "papermill": {
     "duration": null,
     "end_time": null,
     "exception": null,
     "start_time": null,
     "status": "pending"
    },
    "tags": []
   },
   "source": [
    "# U NET "
   ]
  },
  {
   "cell_type": "code",
   "execution_count": null,
   "id": "36362186",
   "metadata": {
    "papermill": {
     "duration": null,
     "end_time": null,
     "exception": null,
     "start_time": null,
     "status": "pending"
    },
    "tags": []
   },
   "outputs": [],
   "source": [
    "from tensorflow.keras.layers import Input, Conv2D, MaxPooling2D, Conv2DTranspose, concatenate\n",
    "\n",
    "# Encoder block: two conv layers followed by max pooling\n",
    "def encoder_block(input, num_filters):\n",
    "    conv = Conv2D(num_filters, (3, 3), activation=\"relu\", padding=\"same\")(input)\n",
    "    conv = Conv2D(num_filters, (3, 3), activation=\"relu\", padding=\"same\")(conv)\n",
    "    pool = MaxPooling2D((2, 2))(conv)\n",
    "    return conv, pool\n",
    "\n",
    "# Decoder block: transpose conv, skip connection, then conv block\n",
    "def decoder_block(input, skip_features, num_filters):\n",
    "    uconv = Conv2DTranspose(num_filters, (2, 2), strides=2, padding=\"same\")(input)\n",
    "    con = concatenate([uconv, skip_features])\n",
    "    conv = conv_block(con, num_filters)\n",
    "    return conv"
   ]
  },
  {
   "cell_type": "code",
   "execution_count": null,
   "id": "b3c474ed",
   "metadata": {
    "papermill": {
     "duration": null,
     "end_time": null,
     "exception": null,
     "start_time": null,
     "status": "pending"
    },
    "tags": []
   },
   "outputs": [],
   "source": [
    "from tensorflow.keras.models import Model\n",
    "from tensorflow.keras.optimizers import Adam\n",
    "\n",
    "# Convolution block used in bottleneck and decoder\n",
    "def conv_block(input, num_filters):\n",
    "    conv = Conv2D(num_filters, (3, 3), activation=\"relu\", padding=\"same\")(input)\n",
    "    conv = Conv2D(num_filters, (3, 3), activation=\"relu\", padding=\"same\")(conv)\n",
    "    return conv\n",
    "\n",
    "# Build the full U-Net model\n",
    "def build_model(input_shape):\n",
    "    input_layer = Input(input_shape)\n",
    "    \n",
    "    s1, p1 = encoder_block(input_layer, 64)\n",
    "    s2, p2 = encoder_block(p1, 128)\n",
    "    s3, p3 = encoder_block(p2, 256)\n",
    "    s4, p4 = encoder_block(p3, 512)\n",
    "\n",
    "    b1 = conv_block(p4, 1024)\n",
    "\n",
    "    d1 = decoder_block(b1, s4, 512)\n",
    "    d2 = decoder_block(d1, s3, 256)\n",
    "    d3 = decoder_block(d2, s2, 128)\n",
    "    d4 = decoder_block(d3, s1, 64)\n",
    "    \n",
    "    output_layer = Conv2D(1, 1, padding=\"same\", activation=\"sigmoid\")(d4)\n",
    "    \n",
    "    model = Model(input_layer, output_layer, name=\"U-Net\")\n",
    "    return model\n",
    "\n",
    "# Instantiate and compile the model\n",
    "model = build_model(input_shape=(192, 192, 1))\n",
    "model.compile(loss=\"binary_crossentropy\", optimizer=\"Adam\", metrics=[\"accuracy\"])\n",
    "model.summary()"
   ]
  },
  {
   "cell_type": "code",
   "execution_count": null,
   "id": "3403209a",
   "metadata": {
    "papermill": {
     "duration": null,
     "end_time": null,
     "exception": null,
     "start_time": null,
     "status": "pending"
    },
    "tags": []
   },
   "outputs": [],
   "source": [
    "history = model.fit(X_train, Y_train, epochs=2, batch_size=32, validation_data=(X_val, Y_val))"
   ]
  },
  {
   "cell_type": "code",
   "execution_count": null,
   "id": "cce4474a",
   "metadata": {
    "papermill": {
     "duration": null,
     "end_time": null,
     "exception": null,
     "start_time": null,
     "status": "pending"
    },
    "tags": []
   },
   "outputs": [],
   "source": [
    "import matplotlib.pyplot as plt\n",
    "\n",
    "# Suppose this is your training history\n",
    "# history = model.fit(...)\n",
    "\n",
    "# Plot Accuracy\n",
    "plt.figure(figsize=(12, 4))\n",
    "\n",
    "plt.subplot(1, 2, 1)\n",
    "plt.plot(history.history['accuracy'], label='Train Accuracy')\n",
    "plt.plot(history.history['val_accuracy'], label='Val Accuracy')\n",
    "plt.title('Model Accuracy')\n",
    "plt.xlabel('Epoch')\n",
    "plt.ylabel('Accuracy')\n",
    "plt.legend()\n",
    "\n",
    "# Plot Loss\n",
    "plt.subplot(1, 2, 2)\n",
    "plt.plot(history.history['loss'], label='Train Loss')\n",
    "plt.plot(history.history['val_loss'], label='Val Loss')\n",
    "plt.title('Model Loss')\n",
    "plt.xlabel('Epoch')\n",
    "plt.ylabel('Loss')\n",
    "plt.legend()\n",
    "\n",
    "plt.tight_layout()\n",
    "plt.show()\n"
   ]
  },
  {
   "cell_type": "code",
   "execution_count": null,
   "id": "0a745752",
   "metadata": {
    "papermill": {
     "duration": null,
     "end_time": null,
     "exception": null,
     "start_time": null,
     "status": "pending"
    },
    "tags": []
   },
   "outputs": [],
   "source": [
    "# X_val and Y_val are your validation images and masks\n",
    "loss, accuracy = model.evaluate(X_test, Y_test, verbose=0)\n",
    "print(\"Final Accuracy:\", accuracy)\n"
   ]
  },
  {
   "cell_type": "code",
   "execution_count": null,
   "id": "933b1ef0",
   "metadata": {
    "papermill": {
     "duration": null,
     "end_time": null,
     "exception": null,
     "start_time": null,
     "status": "pending"
    },
    "tags": []
   },
   "outputs": [],
   "source": [
    "model.save('unet_model_Fresh.h5')\n"
   ]
  },
  {
   "cell_type": "code",
   "execution_count": null,
   "id": "42b5b182",
   "metadata": {
    "papermill": {
     "duration": null,
     "end_time": null,
     "exception": null,
     "start_time": null,
     "status": "pending"
    },
    "tags": []
   },
   "outputs": [],
   "source": [
    "import numpy as np\n",
    "import matplotlib.pyplot as plt\n",
    "\n",
    "# Create subplot grid\n",
    "fig, ax = plt.subplots(5, 3, figsize=(10, 18))\n",
    "\n",
    "# Randomly select 5 test samples\n",
    "indices = np.random.randint(0, X_test.shape[0], 5)\n",
    "\n",
    "for i in range(5):\n",
    "    idx = indices[i]\n",
    "    \n",
    "    # Remove extra dimensions: (192, 192)\n",
    "    image = np.squeeze(X_test[idx])\n",
    "    mask = np.squeeze(Y_test[idx])\n",
    "    \n",
    "    # Predict and squeeze\n",
    "    pred = model.predict(np.expand_dims(X_test[idx], axis=0), verbose=0)[0]\n",
    "    pred = np.squeeze(pred) > 0.5  # Apply threshold if binary segmentation\n",
    "\n",
    "    # Plot image\n",
    "    ax[i, 0].imshow(image, cmap='gray')\n",
    "    ax[i, 0].set_title('Image')\n",
    "    ax[i, 0].axis('off')\n",
    "    \n",
    "    # Plot ground truth mask\n",
    "    ax[i, 1].imshow(mask, cmap='gray')\n",
    "    ax[i, 1].set_title('Ground Truth')\n",
    "    ax[i, 1].axis('off')\n",
    "    \n",
    "    # Plot predicted mask\n",
    "    ax[i, 2].imshow(pred, cmap='gray')\n",
    "    ax[i, 2].set_title('Prediction')\n",
    "    ax[i, 2].axis('off')\n",
    "\n",
    "# Overall title\n",
    "fig.suptitle('U-Net Predictions on Test Set', fontsize=16)\n",
    "plt.tight_layout()\n",
    "plt.show()\n"
   ]
  }
 ],
 "metadata": {
  "kernelspec": {
   "display_name": ".venv",
   "language": "python",
   "name": "python3"
  },
  "language_info": {
   "codemirror_mode": {
    "name": "ipython",
    "version": 3
   },
   "file_extension": ".py",
   "mimetype": "text/x-python",
   "name": "python",
   "nbconvert_exporter": "python",
   "pygments_lexer": "ipython3",
   "version": "3.11.11"
  },
  "papermill": {
   "default_parameters": {},
   "duration": 6.219019,
   "end_time": "2025-06-15T09:52:42.139452",
   "environment_variables": {},
   "exception": true,
   "input_path": "__notebook__.ipynb",
   "output_path": "__notebook__.ipynb",
   "parameters": {},
   "start_time": "2025-06-15T09:52:35.920433",
   "version": "2.6.0"
  }
 },
 "nbformat": 4,
 "nbformat_minor": 5
}
